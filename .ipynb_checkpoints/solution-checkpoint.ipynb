{
 "cells": [
  {
   "cell_type": "code",
   "execution_count": null,
   "id": "6ce5ce5d",
   "metadata": {},
   "outputs": [],
   "source": [
    "#!python train.py --data data/deformed_triple_WB.yaml --cfg cfg/yolov7-w6-pose.yaml --hyp data/hyp.pose.yaml --device 0 --kpt-label"
   ]
  },
  {
   "cell_type": "code",
   "execution_count": null,
   "id": "a2ec2127",
   "metadata": {},
   "outputs": [],
   "source": [
    "#import torch\n",
    "#print(torch.__version__)   #1.12.1+cu116\n",
    "!python train.py --data data/custom_kpts.yaml --cfg cfg/yolov7-w6-pose_custom.yaml --hyp data/hyp.pose.yaml --device 0 --kpt-label"
   ]
  },
  {
   "cell_type": "markdown",
   "id": "e7212f61",
   "metadata": {},
   "source": [
    "# Test:"
   ]
  },
  {
   "cell_type": "code",
   "execution_count": null,
   "id": "c2cc785a",
   "metadata": {},
   "outputs": [],
   "source": [
    "!python test.py --data data/custom_kpts.yaml --img 640 --conf 0.001 --iou 0.65 --weights runs/train/exp/weights/best.pt --kpt-label"
   ]
  },
  {
   "cell_type": "markdown",
   "id": "ae5111b3",
   "metadata": {},
   "source": [
    "# Detect:"
   ]
  },
  {
   "cell_type": "code",
   "execution_count": null,
   "id": "bb4b5882",
   "metadata": {},
   "outputs": [],
   "source": [
    "!python detect.py --weights runs/train/exp/weights/best.pt --kpt-label --source 37.jpg"
   ]
  }
 ],
 "metadata": {
  "kernelspec": {
   "display_name": "Python 3 (ipykernel)",
   "language": "python",
   "name": "python3"
  },
  "language_info": {
   "codemirror_mode": {
    "name": "ipython",
    "version": 3
   },
   "file_extension": ".py",
   "mimetype": "text/x-python",
   "name": "python",
   "nbconvert_exporter": "python",
   "pygments_lexer": "ipython3",
   "version": "3.9.10"
  }
 },
 "nbformat": 4,
 "nbformat_minor": 5
}
